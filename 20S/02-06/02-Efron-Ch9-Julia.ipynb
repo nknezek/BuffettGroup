{
 "cells": [
  {
   "cell_type": "code",
   "execution_count": 2,
   "metadata": {
    "ExecuteTime": {
     "end_time": "2020-02-03T19:08:46.470000-08:00",
     "start_time": "2020-02-04T03:08:46.302Z"
    }
   },
   "outputs": [],
   "source": [
    "using Random\n",
    "using Statistics"
   ]
  },
  {
   "cell_type": "code",
   "execution_count": 3,
   "metadata": {
    "ExecuteTime": {
     "end_time": "2020-02-03T19:08:48.395000-08:00",
     "start_time": "2020-02-04T03:08:47.943Z"
    }
   },
   "outputs": [
    {
     "name": "stdout",
     "output_type": "stream",
     "text": [
      "A [150.55555555555554 23.07777777777778]\n",
      "B [233.44444444444443 22.07777777777778]\n",
      "C [111.0 28.922222222222217]\n"
     ]
    }
   ],
   "source": [
    "# hormone data, table 9.1 (p. 107)\n",
    "A = Float64[\n",
    "    99 25.8;\n",
    "    152 20.5;\n",
    "    293 14.3;\n",
    "    155 23.2;\n",
    "    196 20.6;\n",
    "    53 31.1;\n",
    "    184 20.9;\n",
    "    171 20.9;\n",
    "    52 30.4\n",
    "];\n",
    "B = Float64[\n",
    "    376 16.3;\n",
    "    385 11.6;\n",
    "    402 11.8;\n",
    "    29 32.5;\n",
    "    76 32.0;\n",
    "    296 18.0;\n",
    "    151 24.2;\n",
    "    177 26.5;\n",
    "    209 25.8\n",
    "];\n",
    "C = Float64[    \n",
    "    119 28.8;\n",
    "    188 22.0;\n",
    "    115 29.7;\n",
    "    88 28.9;\n",
    "    58 32.8;\n",
    "    49 32.5;\n",
    "    150 25.4;\n",
    "    107 31.7;\n",
    "    125 28.5\n",
    "];\n",
    "println(\"A \", mean(A,dims=1))\n",
    "println(\"B \", mean(B,dims=1))\n",
    "println(\"C \", mean(C,dims=1))\n"
   ]
  },
  {
   "cell_type": "code",
   "execution_count": 4,
   "metadata": {
    "ExecuteTime": {
     "end_time": "2020-02-03T19:08:49.952000-08:00",
     "start_time": "2020-02-04T03:08:49.418Z"
    }
   },
   "outputs": [
    {
     "ename": "BoundsError",
     "evalue": "BoundsError: attempt to access 100-element Array{Float64,1} at index []",
     "output_type": "error",
     "traceback": [
      "BoundsError: attempt to access 100-element Array{Float64,1} at index []",
      "",
      "Stacktrace:",
      " [1] throw_boundserror(::Array{Float64,1}, ::Tuple{}) at ./abstractarray.jl:538",
      " [2] checkbounds at ./abstractarray.jl:503 [inlined]",
      " [3] _setindex! at ./abstractarray.jl:1096 [inlined]",
      " [4] setindex!(::Array{Float64,1}, ::Float64) at ./abstractarray.jl:1074",
      " [5] top-level scope at ./In[4]:4"
     ]
    }
   ],
   "source": [
    "bs = LinRange(0,5,100);\n",
    "RSEs = zeros(bs.len)\n",
    "for b in bs\n",
    "    RSEs[] = sum((A[:,1]-A[:,2]*b).^2)\n",
    "end"
   ]
  },
  {
   "cell_type": "code",
   "execution_count": 64,
   "metadata": {
    "ExecuteTime": {
     "end_time": "2020-02-02T21:26:23.195000-08:00",
     "start_time": "2020-02-03T05:26:23.186Z"
    }
   },
   "outputs": [
    {
     "data": {
      "text/plain": [
       "2"
      ]
     },
     "execution_count": 64,
     "metadata": {},
     "output_type": "execute_result"
    }
   ],
   "source": [
    "b=2"
   ]
  },
  {
   "cell_type": "code",
   "execution_count": 72,
   "metadata": {
    "ExecuteTime": {
     "end_time": "2020-02-02T21:27:27.467000-08:00",
     "start_time": "2020-02-03T05:27:27.417Z"
    }
   },
   "outputs": [
    {
     "data": {
      "text/plain": [
       "157307.67999999996"
      ]
     },
     "execution_count": 72,
     "metadata": {},
     "output_type": "execute_result"
    }
   ],
   "source": []
  },
  {
   "cell_type": "code",
   "execution_count": null,
   "metadata": {},
   "outputs": [],
   "source": []
  }
 ],
 "metadata": {
  "kernelspec": {
   "display_name": "Julia 1.3.1",
   "language": "julia",
   "name": "julia-1.3"
  },
  "language_info": {
   "file_extension": ".jl",
   "mimetype": "application/julia",
   "name": "julia",
   "version": "1.3.1"
  },
  "toc": {
   "base_numbering": 1,
   "nav_menu": {},
   "number_sections": true,
   "sideBar": true,
   "skip_h1_title": false,
   "title_cell": "Table of Contents",
   "title_sidebar": "Contents",
   "toc_cell": false,
   "toc_position": {},
   "toc_section_display": true,
   "toc_window_display": false
  },
  "varInspector": {
   "cols": {
    "lenName": 16,
    "lenType": 16,
    "lenVar": 40
   },
   "kernels_config": {
    "python": {
     "delete_cmd_postfix": "",
     "delete_cmd_prefix": "del ",
     "library": "var_list.py",
     "varRefreshCmd": "print(var_dic_list())"
    },
    "r": {
     "delete_cmd_postfix": ") ",
     "delete_cmd_prefix": "rm(",
     "library": "var_list.r",
     "varRefreshCmd": "cat(var_dic_list()) "
    }
   },
   "types_to_exclude": [
    "module",
    "function",
    "builtin_function_or_method",
    "instance",
    "_Feature"
   ],
   "window_display": false
  }
 },
 "nbformat": 4,
 "nbformat_minor": 2
}
