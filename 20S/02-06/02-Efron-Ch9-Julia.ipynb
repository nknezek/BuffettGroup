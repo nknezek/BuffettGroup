{
 "cells": [
  {
   "cell_type": "code",
   "execution_count": 1,
   "metadata": {
    "ExecuteTime": {
     "end_time": "2020-02-05T22:26:56.572000-08:00",
     "start_time": "2020-02-06T06:26:54.929Z"
    }
   },
   "outputs": [],
   "source": [
    "## Run this cell if packages are not installed yet\n",
    "# using Pkg\n",
    "# Pkg.add(\"Random\")\n",
    "# Pkg.add(\"Statistics\")\n",
    "# Pkg.add(\"StatsBase\")\n",
    "# Pkg.add(\"CSV\")\n",
    "# Pkg.add(\"DataFrames\")\n",
    "# Pkg.add(\"Plots\")\n",
    "# Pkg.add(\"StatsPlots\")"
   ]
  },
  {
   "cell_type": "code",
   "execution_count": 2,
   "metadata": {
    "ExecuteTime": {
     "end_time": "2020-02-05T22:27:19.115000-08:00",
     "start_time": "2020-02-06T06:26:54.934Z"
    }
   },
   "outputs": [],
   "source": [
    "using Random\n",
    "using Statistics\n",
    "using StatsBase\n",
    "using CSV\n",
    "using DataFrames\n",
    "using Plots\n",
    "using StatsPlots"
   ]
  },
  {
   "cell_type": "markdown",
   "metadata": {},
   "source": [
    "# Read in Data"
   ]
  },
  {
   "cell_type": "code",
   "execution_count": 3,
   "metadata": {
    "ExecuteTime": {
     "end_time": "2020-02-05T22:27:33.918000-08:00",
     "start_time": "2020-02-06T06:26:54.937Z"
    }
   },
   "outputs": [],
   "source": [
    "hormone_data = CSV.read(\"hormone_data.csv\");"
   ]
  },
  {
   "cell_type": "code",
   "execution_count": 4,
   "metadata": {
    "ExecuteTime": {
     "end_time": "2020-02-05T22:27:35.601000-08:00",
     "start_time": "2020-02-06T06:26:54.943Z"
    }
   },
   "outputs": [
    {
     "data": {
      "text/plain": [
       "3-element Array{Symbol,1}:\n",
       " :lot   \n",
       " :hrs   \n",
       " :amount"
      ]
     },
     "execution_count": 4,
     "metadata": {},
     "output_type": "execute_result"
    }
   ],
   "source": [
    "names(hormone_data)"
   ]
  },
  {
   "cell_type": "code",
   "execution_count": 5,
   "metadata": {
    "ExecuteTime": {
     "end_time": "2020-02-05T22:27:36.389000-08:00",
     "start_time": "2020-02-06T06:26:54.945Z"
    }
   },
   "outputs": [
    {
     "data": {
      "text/plain": [
       "(27, 3)"
      ]
     },
     "execution_count": 5,
     "metadata": {},
     "output_type": "execute_result"
    }
   ],
   "source": [
    "size(hormone_data)"
   ]
  },
  {
   "cell_type": "code",
   "execution_count": 6,
   "metadata": {
    "ExecuteTime": {
     "end_time": "2020-02-05T22:27:40.352000-08:00",
     "start_time": "2020-02-06T06:26:54.948Z"
    }
   },
   "outputs": [
    {
     "data": {
      "text/html": [
       "<table class=\"data-frame\"><thead><tr><th></th><th>lot</th><th>hrs</th><th>amount</th></tr><tr><th></th><th>String</th><th>Int64</th><th>Float64</th></tr></thead><tbody><p>5 rows × 3 columns</p><tr><th>1</th><td>A</td><td>99</td><td>25.8</td></tr><tr><th>2</th><td>A</td><td>152</td><td>20.5</td></tr><tr><th>3</th><td>A</td><td>293</td><td>14.3</td></tr><tr><th>4</th><td>A</td><td>155</td><td>23.2</td></tr><tr><th>5</th><td>A</td><td>196</td><td>20.6</td></tr></tbody></table>"
      ],
      "text/latex": [
       "\\begin{tabular}{r|ccc}\n",
       "\t& lot & hrs & amount\\\\\n",
       "\t\\hline\n",
       "\t& String & Int64 & Float64\\\\\n",
       "\t\\hline\n",
       "\t1 & A & 99 & 25.8 \\\\\n",
       "\t2 & A & 152 & 20.5 \\\\\n",
       "\t3 & A & 293 & 14.3 \\\\\n",
       "\t4 & A & 155 & 23.2 \\\\\n",
       "\t5 & A & 196 & 20.6 \\\\\n",
       "\\end{tabular}\n"
      ],
      "text/plain": [
       "5×3 DataFrame\n",
       "│ Row │ lot    │ hrs   │ amount  │\n",
       "│     │ \u001b[90mString\u001b[39m │ \u001b[90mInt64\u001b[39m │ \u001b[90mFloat64\u001b[39m │\n",
       "├─────┼────────┼───────┼─────────┤\n",
       "│ 1   │ A      │ 99    │ 25.8    │\n",
       "│ 2   │ A      │ 152   │ 20.5    │\n",
       "│ 3   │ A      │ 293   │ 14.3    │\n",
       "│ 4   │ A      │ 155   │ 23.2    │\n",
       "│ 5   │ A      │ 196   │ 20.6    │"
      ]
     },
     "execution_count": 6,
     "metadata": {},
     "output_type": "execute_result"
    }
   ],
   "source": [
    "first(hormone_data,5)"
   ]
  },
  {
   "cell_type": "code",
   "execution_count": 7,
   "metadata": {
    "ExecuteTime": {
     "end_time": "2020-02-05T22:27:40.439000-08:00",
     "start_time": "2020-02-06T06:26:54.951Z"
    }
   },
   "outputs": [
    {
     "data": {
      "text/html": [
       "<table class=\"data-frame\"><thead><tr><th></th><th>lot</th><th>hrs</th><th>amount</th></tr><tr><th></th><th>String</th><th>Int64</th><th>Float64</th></tr></thead><tbody><p>5 rows × 3 columns</p><tr><th>1</th><td>C</td><td>58</td><td>32.8</td></tr><tr><th>2</th><td>C</td><td>49</td><td>32.5</td></tr><tr><th>3</th><td>C</td><td>150</td><td>25.4</td></tr><tr><th>4</th><td>C</td><td>107</td><td>31.7</td></tr><tr><th>5</th><td>C</td><td>125</td><td>28.5</td></tr></tbody></table>"
      ],
      "text/latex": [
       "\\begin{tabular}{r|ccc}\n",
       "\t& lot & hrs & amount\\\\\n",
       "\t\\hline\n",
       "\t& String & Int64 & Float64\\\\\n",
       "\t\\hline\n",
       "\t1 & C & 58 & 32.8 \\\\\n",
       "\t2 & C & 49 & 32.5 \\\\\n",
       "\t3 & C & 150 & 25.4 \\\\\n",
       "\t4 & C & 107 & 31.7 \\\\\n",
       "\t5 & C & 125 & 28.5 \\\\\n",
       "\\end{tabular}\n"
      ],
      "text/plain": [
       "5×3 DataFrame\n",
       "│ Row │ lot    │ hrs   │ amount  │\n",
       "│     │ \u001b[90mString\u001b[39m │ \u001b[90mInt64\u001b[39m │ \u001b[90mFloat64\u001b[39m │\n",
       "├─────┼────────┼───────┼─────────┤\n",
       "│ 1   │ C      │ 58    │ 32.8    │\n",
       "│ 2   │ C      │ 49    │ 32.5    │\n",
       "│ 3   │ C      │ 150   │ 25.4    │\n",
       "│ 4   │ C      │ 107   │ 31.7    │\n",
       "│ 5   │ C      │ 125   │ 28.5    │"
      ]
     },
     "execution_count": 7,
     "metadata": {},
     "output_type": "execute_result"
    }
   ],
   "source": [
    "last(hormone_data,5)"
   ]
  },
  {
   "cell_type": "code",
   "execution_count": 8,
   "metadata": {
    "ExecuteTime": {
     "end_time": "2020-02-05T22:27:47.135000-08:00",
     "start_time": "2020-02-06T06:26:54.954Z"
    }
   },
   "outputs": [
    {
     "data": {
      "text/html": [
       "<table class=\"data-frame\"><thead><tr><th></th><th>variable</th><th>mean</th><th>min</th><th>median</th><th>max</th><th>nunique</th><th>nmissing</th><th>eltype</th></tr><tr><th></th><th>Symbol</th><th>Union…</th><th>Any</th><th>Union…</th><th>Any</th><th>Union…</th><th>Nothing</th><th>DataType</th></tr></thead><tbody><p>3 rows × 8 columns</p><tr><th>1</th><td>lot</td><td></td><td>A</td><td></td><td>C</td><td>3</td><td></td><td>String</td></tr><tr><th>2</th><td>hrs</td><td>165.0</td><td>29</td><td>151.0</td><td>402</td><td></td><td></td><td>Int64</td></tr><tr><th>3</th><td>amount</td><td>24.6926</td><td>11.6</td><td>25.8</td><td>32.8</td><td></td><td></td><td>Float64</td></tr></tbody></table>"
      ],
      "text/latex": [
       "\\begin{tabular}{r|cccccccc}\n",
       "\t& variable & mean & min & median & max & nunique & nmissing & eltype\\\\\n",
       "\t\\hline\n",
       "\t& Symbol & Union… & Any & Union… & Any & Union… & Nothing & DataType\\\\\n",
       "\t\\hline\n",
       "\t1 & lot &  & A &  & C & 3 &  & String \\\\\n",
       "\t2 & hrs & 165.0 & 29 & 151.0 & 402 &  &  & Int64 \\\\\n",
       "\t3 & amount & 24.6926 & 11.6 & 25.8 & 32.8 &  &  & Float64 \\\\\n",
       "\\end{tabular}\n"
      ],
      "text/plain": [
       "3×8 DataFrame. Omitted printing of 1 columns\n",
       "│ Row │ variable │ mean    │ min  │ median │ max  │ nunique │ nmissing │\n",
       "│     │ \u001b[90mSymbol\u001b[39m   │ \u001b[90mUnion…\u001b[39m  │ \u001b[90mAny\u001b[39m  │ \u001b[90mUnion…\u001b[39m │ \u001b[90mAny\u001b[39m  │ \u001b[90mUnion…\u001b[39m  │ \u001b[90mNothing\u001b[39m  │\n",
       "├─────┼──────────┼─────────┼──────┼────────┼──────┼─────────┼──────────┤\n",
       "│ 1   │ lot      │         │ A    │        │ C    │ 3       │          │\n",
       "│ 2   │ hrs      │ 165.0   │ 29   │ 151.0  │ 402  │         │          │\n",
       "│ 3   │ amount   │ 24.6926 │ 11.6 │ 25.8   │ 32.8 │         │          │"
      ]
     },
     "execution_count": 8,
     "metadata": {},
     "output_type": "execute_result"
    }
   ],
   "source": [
    "describe(hormone_data)"
   ]
  },
  {
   "cell_type": "code",
   "execution_count": 9,
   "metadata": {
    "ExecuteTime": {
     "end_time": "2020-02-05T22:27:47.727000-08:00",
     "start_time": "2020-02-06T06:26:54.957Z"
    }
   },
   "outputs": [
    {
     "data": {
      "text/html": [
       "<table class=\"data-frame\"><thead><tr><th></th><th>lot</th><th>hrs</th><th>amount</th></tr><tr><th></th><th>String</th><th>Int64</th><th>Float64</th></tr></thead><tbody><p>9 rows × 3 columns</p><tr><th>1</th><td>A</td><td>99</td><td>25.8</td></tr><tr><th>2</th><td>A</td><td>152</td><td>20.5</td></tr><tr><th>3</th><td>A</td><td>293</td><td>14.3</td></tr><tr><th>4</th><td>A</td><td>155</td><td>23.2</td></tr><tr><th>5</th><td>A</td><td>196</td><td>20.6</td></tr><tr><th>6</th><td>A</td><td>53</td><td>31.1</td></tr><tr><th>7</th><td>A</td><td>184</td><td>20.9</td></tr><tr><th>8</th><td>A</td><td>171</td><td>20.9</td></tr><tr><th>9</th><td>A</td><td>52</td><td>30.4</td></tr></tbody></table>"
      ],
      "text/latex": [
       "\\begin{tabular}{r|ccc}\n",
       "\t& lot & hrs & amount\\\\\n",
       "\t\\hline\n",
       "\t& String & Int64 & Float64\\\\\n",
       "\t\\hline\n",
       "\t1 & A & 99 & 25.8 \\\\\n",
       "\t2 & A & 152 & 20.5 \\\\\n",
       "\t3 & A & 293 & 14.3 \\\\\n",
       "\t4 & A & 155 & 23.2 \\\\\n",
       "\t5 & A & 196 & 20.6 \\\\\n",
       "\t6 & A & 53 & 31.1 \\\\\n",
       "\t7 & A & 184 & 20.9 \\\\\n",
       "\t8 & A & 171 & 20.9 \\\\\n",
       "\t9 & A & 52 & 30.4 \\\\\n",
       "\\end{tabular}\n"
      ],
      "text/plain": [
       "9×3 DataFrame\n",
       "│ Row │ lot    │ hrs   │ amount  │\n",
       "│     │ \u001b[90mString\u001b[39m │ \u001b[90mInt64\u001b[39m │ \u001b[90mFloat64\u001b[39m │\n",
       "├─────┼────────┼───────┼─────────┤\n",
       "│ 1   │ A      │ 99    │ 25.8    │\n",
       "│ 2   │ A      │ 152   │ 20.5    │\n",
       "│ 3   │ A      │ 293   │ 14.3    │\n",
       "│ 4   │ A      │ 155   │ 23.2    │\n",
       "│ 5   │ A      │ 196   │ 20.6    │\n",
       "│ 6   │ A      │ 53    │ 31.1    │\n",
       "│ 7   │ A      │ 184   │ 20.9    │\n",
       "│ 8   │ A      │ 171   │ 20.9    │\n",
       "│ 9   │ A      │ 52    │ 30.4    │"
      ]
     },
     "execution_count": 9,
     "metadata": {},
     "output_type": "execute_result"
    }
   ],
   "source": [
    "hormone_data[hormone_data.lot .== \"A\", :]"
   ]
  },
  {
   "cell_type": "code",
   "execution_count": 10,
   "metadata": {
    "ExecuteTime": {
     "end_time": "2020-02-05T22:27:50.016000-08:00",
     "start_time": "2020-02-06T06:26:54.960Z"
    },
    "scrolled": false
   },
   "outputs": [
    {
     "name": "stdout",
     "output_type": "stream",
     "text": [
      "lot A mean\n",
      "3×2 DataFrame\n",
      "│ Row │ variable │ mean    │\n",
      "│     │ \u001b[90mSymbol\u001b[39m   │ \u001b[90mUnion…\u001b[39m  │\n",
      "├─────┼──────────┼─────────┤\n",
      "│ 1   │ lot      │         │\n",
      "│ 2   │ hrs      │ 150.556 │\n",
      "│ 3   │ amount   │ 23.0778 │\n",
      "\n",
      "lot B mean\n",
      "3×2 DataFrame\n",
      "│ Row │ variable │ mean    │\n",
      "│     │ \u001b[90mSymbol\u001b[39m   │ \u001b[90mUnion…\u001b[39m  │\n",
      "├─────┼──────────┼─────────┤\n",
      "│ 1   │ lot      │         │\n",
      "│ 2   │ hrs      │ 233.444 │\n",
      "│ 3   │ amount   │ 22.0778 │\n",
      "\n",
      "lot C mean\n",
      "3×2 DataFrame\n",
      "│ Row │ variable │ mean    │\n",
      "│     │ \u001b[90mSymbol\u001b[39m   │ \u001b[90mUnion…\u001b[39m  │\n",
      "├─────┼──────────┼─────────┤\n",
      "│ 1   │ lot      │         │\n",
      "│ 2   │ hrs      │ 111.0   │\n",
      "│ 3   │ amount   │ 28.9222 │\n",
      "\n"
     ]
    }
   ],
   "source": [
    "for lot in unique(hormone_data.lot)\n",
    "    println(\"lot \",lot,\" mean\")\n",
    "    println(describe(hormone_data[hormone_data.lot .== lot, :], :mean))\n",
    "    println()\n",
    "end"
   ]
  },
  {
   "cell_type": "markdown",
   "metadata": {},
   "source": [
    "# Plot Data"
   ]
  },
  {
   "cell_type": "code",
   "execution_count": 11,
   "metadata": {
    "ExecuteTime": {
     "end_time": "2020-02-05T22:28:14.711000-08:00",
     "start_time": "2020-02-06T06:26:54.962Z"
    }
   },
   "outputs": [
    {
     "data": {
      "image/svg+xml": [
       "<?xml version=\"1.0\" encoding=\"utf-8\"?>\n",
       "<svg xmlns=\"http://www.w3.org/2000/svg\" xmlns:xlink=\"http://www.w3.org/1999/xlink\" width=\"600\" height=\"400\" viewBox=\"0 0 2400 1600\">\n",
       "<defs>\n",
       "  <clipPath id=\"clip7300\">\n",
       "    <rect x=\"0\" y=\"0\" width=\"2400\" height=\"1600\"/>\n",
       "  </clipPath>\n",
       "</defs>\n",
       "<path clip-path=\"url(#clip7300)\" d=\"\n",
       "M0 1600 L2400 1600 L2400 0 L0 0  Z\n",
       "  \" fill=\"#ffffff\" fill-rule=\"evenodd\" fill-opacity=\"1\"/>\n",
       "<defs>\n",
       "  <clipPath id=\"clip7301\">\n",
       "    <rect x=\"480\" y=\"0\" width=\"1681\" height=\"1600\"/>\n",
       "  </clipPath>\n",
       "</defs>\n",
       "<path clip-path=\"url(#clip7300)\" d=\"\n",
       "M202.373 1425.62 L2352.76 1425.62 L2352.76 121.675 L202.373 121.675  Z\n",
       "  \" fill=\"#ffffff\" fill-rule=\"evenodd\" fill-opacity=\"1\"/>\n",
       "<defs>\n",
       "  <clipPath id=\"clip7302\">\n",
       "    <rect x=\"202\" y=\"121\" width=\"2151\" height=\"1305\"/>\n",
       "  </clipPath>\n",
       "</defs>\n",
       "<polyline clip-path=\"url(#clip7302)\" style=\"stroke:#000000; stroke-width:2; stroke-opacity:0.1; fill:none\" points=\"\n",
       "  649.386,1425.62 649.386,121.675 \n",
       "  \"/>\n",
       "<polyline clip-path=\"url(#clip7302)\" style=\"stroke:#000000; stroke-width:2; stroke-opacity:0.1; fill:none\" points=\"\n",
       "  1193.26,1425.62 1193.26,121.675 \n",
       "  \"/>\n",
       "<polyline clip-path=\"url(#clip7302)\" style=\"stroke:#000000; stroke-width:2; stroke-opacity:0.1; fill:none\" points=\"\n",
       "  1737.14,1425.62 1737.14,121.675 \n",
       "  \"/>\n",
       "<polyline clip-path=\"url(#clip7302)\" style=\"stroke:#000000; stroke-width:2; stroke-opacity:0.1; fill:none\" points=\"\n",
       "  2281.02,1425.62 2281.02,121.675 \n",
       "  \"/>\n",
       "<polyline clip-path=\"url(#clip7302)\" style=\"stroke:#000000; stroke-width:2; stroke-opacity:0.1; fill:none\" points=\"\n",
       "  202.373,1191.43 2352.76,1191.43 \n",
       "  \"/>\n",
       "<polyline clip-path=\"url(#clip7302)\" style=\"stroke:#000000; stroke-width:2; stroke-opacity:0.1; fill:none\" points=\"\n",
       "  202.373,901.302 2352.76,901.302 \n",
       "  \"/>\n",
       "<polyline clip-path=\"url(#clip7302)\" style=\"stroke:#000000; stroke-width:2; stroke-opacity:0.1; fill:none\" points=\"\n",
       "  202.373,611.176 2352.76,611.176 \n",
       "  \"/>\n",
       "<polyline clip-path=\"url(#clip7302)\" style=\"stroke:#000000; stroke-width:2; stroke-opacity:0.1; fill:none\" points=\"\n",
       "  202.373,321.05 2352.76,321.05 \n",
       "  \"/>\n",
       "<polyline clip-path=\"url(#clip7300)\" style=\"stroke:#000000; stroke-width:4; stroke-opacity:1; fill:none\" points=\"\n",
       "  202.373,1425.62 2352.76,1425.62 \n",
       "  \"/>\n",
       "<polyline clip-path=\"url(#clip7300)\" style=\"stroke:#000000; stroke-width:4; stroke-opacity:1; fill:none\" points=\"\n",
       "  202.373,1425.62 202.373,121.675 \n",
       "  \"/>\n",
       "<polyline clip-path=\"url(#clip7300)\" style=\"stroke:#000000; stroke-width:4; stroke-opacity:1; fill:none\" points=\"\n",
       "  649.386,1425.62 649.386,1409.97 \n",
       "  \"/>\n",
       "<polyline clip-path=\"url(#clip7300)\" style=\"stroke:#000000; stroke-width:4; stroke-opacity:1; fill:none\" points=\"\n",
       "  1193.26,1425.62 1193.26,1409.97 \n",
       "  \"/>\n",
       "<polyline clip-path=\"url(#clip7300)\" style=\"stroke:#000000; stroke-width:4; stroke-opacity:1; fill:none\" points=\"\n",
       "  1737.14,1425.62 1737.14,1409.97 \n",
       "  \"/>\n",
       "<polyline clip-path=\"url(#clip7300)\" style=\"stroke:#000000; stroke-width:4; stroke-opacity:1; fill:none\" points=\"\n",
       "  2281.02,1425.62 2281.02,1409.97 \n",
       "  \"/>\n",
       "<polyline clip-path=\"url(#clip7300)\" style=\"stroke:#000000; stroke-width:4; stroke-opacity:1; fill:none\" points=\"\n",
       "  202.373,1191.43 228.178,1191.43 \n",
       "  \"/>\n",
       "<polyline clip-path=\"url(#clip7300)\" style=\"stroke:#000000; stroke-width:4; stroke-opacity:1; fill:none\" points=\"\n",
       "  202.373,901.302 228.178,901.302 \n",
       "  \"/>\n",
       "<polyline clip-path=\"url(#clip7300)\" style=\"stroke:#000000; stroke-width:4; stroke-opacity:1; fill:none\" points=\"\n",
       "  202.373,611.176 228.178,611.176 \n",
       "  \"/>\n",
       "<polyline clip-path=\"url(#clip7300)\" style=\"stroke:#000000; stroke-width:4; stroke-opacity:1; fill:none\" points=\"\n",
       "  202.373,321.05 228.178,321.05 \n",
       "  \"/>\n",
       "<g clip-path=\"url(#clip7300)\">\n",
       "<text style=\"fill:#000000; fill-opacity:1; font-family:Arial,Helvetica Neue,Helvetica,sans-serif; font-size:48px; text-anchor:middle;\" transform=\"rotate(0, 649.386, 1479.62)\" x=\"649.386\" y=\"1479.62\">100</text>\n",
       "</g>\n",
       "<g clip-path=\"url(#clip7300)\">\n",
       "<text style=\"fill:#000000; fill-opacity:1; font-family:Arial,Helvetica Neue,Helvetica,sans-serif; font-size:48px; text-anchor:middle;\" transform=\"rotate(0, 1193.26, 1479.62)\" x=\"1193.26\" y=\"1479.62\">200</text>\n",
       "</g>\n",
       "<g clip-path=\"url(#clip7300)\">\n",
       "<text style=\"fill:#000000; fill-opacity:1; font-family:Arial,Helvetica Neue,Helvetica,sans-serif; font-size:48px; text-anchor:middle;\" transform=\"rotate(0, 1737.14, 1479.62)\" x=\"1737.14\" y=\"1479.62\">300</text>\n",
       "</g>\n",
       "<g clip-path=\"url(#clip7300)\">\n",
       "<text style=\"fill:#000000; fill-opacity:1; font-family:Arial,Helvetica Neue,Helvetica,sans-serif; font-size:48px; text-anchor:middle;\" transform=\"rotate(0, 2281.02, 1479.62)\" x=\"2281.02\" y=\"1479.62\">400</text>\n",
       "</g>\n",
       "<g clip-path=\"url(#clip7300)\">\n",
       "<text style=\"fill:#000000; fill-opacity:1; font-family:Arial,Helvetica Neue,Helvetica,sans-serif; font-size:48px; text-anchor:end;\" transform=\"rotate(0, 178.373, 1208.93)\" x=\"178.373\" y=\"1208.93\">15</text>\n",
       "</g>\n",
       "<g clip-path=\"url(#clip7300)\">\n",
       "<text style=\"fill:#000000; fill-opacity:1; font-family:Arial,Helvetica Neue,Helvetica,sans-serif; font-size:48px; text-anchor:end;\" transform=\"rotate(0, 178.373, 918.802)\" x=\"178.373\" y=\"918.802\">20</text>\n",
       "</g>\n",
       "<g clip-path=\"url(#clip7300)\">\n",
       "<text style=\"fill:#000000; fill-opacity:1; font-family:Arial,Helvetica Neue,Helvetica,sans-serif; font-size:48px; text-anchor:end;\" transform=\"rotate(0, 178.373, 628.676)\" x=\"178.373\" y=\"628.676\">25</text>\n",
       "</g>\n",
       "<g clip-path=\"url(#clip7300)\">\n",
       "<text style=\"fill:#000000; fill-opacity:1; font-family:Arial,Helvetica Neue,Helvetica,sans-serif; font-size:48px; text-anchor:end;\" transform=\"rotate(0, 178.373, 338.55)\" x=\"178.373\" y=\"338.55\">30</text>\n",
       "</g>\n",
       "<g clip-path=\"url(#clip7300)\">\n",
       "<text style=\"fill:#000000; fill-opacity:1; font-family:Arial,Helvetica Neue,Helvetica,sans-serif; font-size:84px; text-anchor:middle;\" transform=\"rotate(0, 1277.56, 73.2)\" x=\"1277.56\" y=\"73.2\">Hormone Data</text>\n",
       "</g>\n",
       "<g clip-path=\"url(#clip7300)\">\n",
       "<text style=\"fill:#000000; fill-opacity:1; font-family:Arial,Helvetica Neue,Helvetica,sans-serif; font-size:66px; text-anchor:middle;\" transform=\"rotate(0, 1277.56, 1559.48)\" x=\"1277.56\" y=\"1559.48\">hrs</text>\n",
       "</g>\n",
       "<g clip-path=\"url(#clip7300)\">\n",
       "<text style=\"fill:#000000; fill-opacity:1; font-family:Arial,Helvetica Neue,Helvetica,sans-serif; font-size:66px; text-anchor:middle;\" transform=\"rotate(-90, 89.2861, 773.647)\" x=\"89.2861\" y=\"773.647\">amount</text>\n",
       "</g>\n",
       "<circle clip-path=\"url(#clip7302)\" style=\"fill:#000000; stroke:none; fill-opacity:1\" cx=\"643.947\" cy=\"564.756\" r=\"18\"/>\n",
       "<circle clip-path=\"url(#clip7302)\" style=\"fill:#009af9; stroke:none; fill-opacity:1\" cx=\"643.947\" cy=\"564.756\" r=\"14\"/>\n",
       "<circle clip-path=\"url(#clip7302)\" style=\"fill:#000000; stroke:none; fill-opacity:1\" cx=\"932.202\" cy=\"872.29\" r=\"18\"/>\n",
       "<circle clip-path=\"url(#clip7302)\" style=\"fill:#009af9; stroke:none; fill-opacity:1\" cx=\"932.202\" cy=\"872.29\" r=\"14\"/>\n",
       "<circle clip-path=\"url(#clip7302)\" style=\"fill:#000000; stroke:none; fill-opacity:1\" cx=\"1699.07\" cy=\"1232.05\" r=\"18\"/>\n",
       "<circle clip-path=\"url(#clip7302)\" style=\"fill:#009af9; stroke:none; fill-opacity:1\" cx=\"1699.07\" cy=\"1232.05\" r=\"14\"/>\n",
       "<circle clip-path=\"url(#clip7302)\" style=\"fill:#000000; stroke:none; fill-opacity:1\" cx=\"948.519\" cy=\"715.622\" r=\"18\"/>\n",
       "<circle clip-path=\"url(#clip7302)\" style=\"fill:#009af9; stroke:none; fill-opacity:1\" cx=\"948.519\" cy=\"715.622\" r=\"14\"/>\n",
       "<circle clip-path=\"url(#clip7302)\" style=\"fill:#000000; stroke:none; fill-opacity:1\" cx=\"1171.51\" cy=\"866.487\" r=\"18\"/>\n",
       "<circle clip-path=\"url(#clip7302)\" style=\"fill:#009af9; stroke:none; fill-opacity:1\" cx=\"1171.51\" cy=\"866.487\" r=\"14\"/>\n",
       "<circle clip-path=\"url(#clip7302)\" style=\"fill:#000000; stroke:none; fill-opacity:1\" cx=\"393.763\" cy=\"257.222\" r=\"18\"/>\n",
       "<circle clip-path=\"url(#clip7302)\" style=\"fill:#009af9; stroke:none; fill-opacity:1\" cx=\"393.763\" cy=\"257.222\" r=\"14\"/>\n",
       "<circle clip-path=\"url(#clip7302)\" style=\"fill:#000000; stroke:none; fill-opacity:1\" cx=\"1106.24\" cy=\"849.08\" r=\"18\"/>\n",
       "<circle clip-path=\"url(#clip7302)\" style=\"fill:#009af9; stroke:none; fill-opacity:1\" cx=\"1106.24\" cy=\"849.08\" r=\"14\"/>\n",
       "<circle clip-path=\"url(#clip7302)\" style=\"fill:#000000; stroke:none; fill-opacity:1\" cx=\"1035.54\" cy=\"849.08\" r=\"18\"/>\n",
       "<circle clip-path=\"url(#clip7302)\" style=\"fill:#009af9; stroke:none; fill-opacity:1\" cx=\"1035.54\" cy=\"849.08\" r=\"14\"/>\n",
       "<circle clip-path=\"url(#clip7302)\" style=\"fill:#000000; stroke:none; fill-opacity:1\" cx=\"388.325\" cy=\"297.84\" r=\"18\"/>\n",
       "<circle clip-path=\"url(#clip7302)\" style=\"fill:#009af9; stroke:none; fill-opacity:1\" cx=\"388.325\" cy=\"297.84\" r=\"14\"/>\n",
       "<circle clip-path=\"url(#clip7302)\" style=\"fill:#000000; stroke:none; fill-opacity:1\" cx=\"2150.49\" cy=\"1116\" r=\"18\"/>\n",
       "<circle clip-path=\"url(#clip7302)\" style=\"fill:#e26f46; stroke:none; fill-opacity:1\" cx=\"2150.49\" cy=\"1116\" r=\"14\"/>\n",
       "<circle clip-path=\"url(#clip7302)\" style=\"fill:#000000; stroke:none; fill-opacity:1\" cx=\"2199.44\" cy=\"1388.71\" r=\"18\"/>\n",
       "<circle clip-path=\"url(#clip7302)\" style=\"fill:#e26f46; stroke:none; fill-opacity:1\" cx=\"2199.44\" cy=\"1388.71\" r=\"14\"/>\n",
       "<circle clip-path=\"url(#clip7302)\" style=\"fill:#000000; stroke:none; fill-opacity:1\" cx=\"2291.9\" cy=\"1377.11\" r=\"18\"/>\n",
       "<circle clip-path=\"url(#clip7302)\" style=\"fill:#e26f46; stroke:none; fill-opacity:1\" cx=\"2291.9\" cy=\"1377.11\" r=\"14\"/>\n",
       "<circle clip-path=\"url(#clip7302)\" style=\"fill:#000000; stroke:none; fill-opacity:1\" cx=\"263.233\" cy=\"175.987\" r=\"18\"/>\n",
       "<circle clip-path=\"url(#clip7302)\" style=\"fill:#e26f46; stroke:none; fill-opacity:1\" cx=\"263.233\" cy=\"175.987\" r=\"14\"/>\n",
       "<circle clip-path=\"url(#clip7302)\" style=\"fill:#000000; stroke:none; fill-opacity:1\" cx=\"518.855\" cy=\"204.999\" r=\"18\"/>\n",
       "<circle clip-path=\"url(#clip7302)\" style=\"fill:#e26f46; stroke:none; fill-opacity:1\" cx=\"518.855\" cy=\"204.999\" r=\"14\"/>\n",
       "<circle clip-path=\"url(#clip7302)\" style=\"fill:#000000; stroke:none; fill-opacity:1\" cx=\"1715.39\" cy=\"1017.35\" r=\"18\"/>\n",
       "<circle clip-path=\"url(#clip7302)\" style=\"fill:#e26f46; stroke:none; fill-opacity:1\" cx=\"1715.39\" cy=\"1017.35\" r=\"14\"/>\n",
       "<circle clip-path=\"url(#clip7302)\" style=\"fill:#000000; stroke:none; fill-opacity:1\" cx=\"926.763\" cy=\"657.596\" r=\"18\"/>\n",
       "<circle clip-path=\"url(#clip7302)\" style=\"fill:#e26f46; stroke:none; fill-opacity:1\" cx=\"926.763\" cy=\"657.596\" r=\"14\"/>\n",
       "<circle clip-path=\"url(#clip7302)\" style=\"fill:#000000; stroke:none; fill-opacity:1\" cx=\"1068.17\" cy=\"524.138\" r=\"18\"/>\n",
       "<circle clip-path=\"url(#clip7302)\" style=\"fill:#e26f46; stroke:none; fill-opacity:1\" cx=\"1068.17\" cy=\"524.138\" r=\"14\"/>\n",
       "<circle clip-path=\"url(#clip7302)\" style=\"fill:#000000; stroke:none; fill-opacity:1\" cx=\"1242.21\" cy=\"564.756\" r=\"18\"/>\n",
       "<circle clip-path=\"url(#clip7302)\" style=\"fill:#e26f46; stroke:none; fill-opacity:1\" cx=\"1242.21\" cy=\"564.756\" r=\"14\"/>\n",
       "<circle clip-path=\"url(#clip7302)\" style=\"fill:#000000; stroke:none; fill-opacity:1\" cx=\"752.723\" cy=\"390.68\" r=\"18\"/>\n",
       "<circle clip-path=\"url(#clip7302)\" style=\"fill:#3da44d; stroke:none; fill-opacity:1\" cx=\"752.723\" cy=\"390.68\" r=\"14\"/>\n",
       "<circle clip-path=\"url(#clip7302)\" style=\"fill:#000000; stroke:none; fill-opacity:1\" cx=\"1128\" cy=\"785.252\" r=\"18\"/>\n",
       "<circle clip-path=\"url(#clip7302)\" style=\"fill:#3da44d; stroke:none; fill-opacity:1\" cx=\"1128\" cy=\"785.252\" r=\"14\"/>\n",
       "<circle clip-path=\"url(#clip7302)\" style=\"fill:#000000; stroke:none; fill-opacity:1\" cx=\"730.967\" cy=\"338.457\" r=\"18\"/>\n",
       "<circle clip-path=\"url(#clip7302)\" style=\"fill:#3da44d; stroke:none; fill-opacity:1\" cx=\"730.967\" cy=\"338.457\" r=\"14\"/>\n",
       "<circle clip-path=\"url(#clip7302)\" style=\"fill:#000000; stroke:none; fill-opacity:1\" cx=\"584.121\" cy=\"384.878\" r=\"18\"/>\n",
       "<circle clip-path=\"url(#clip7302)\" style=\"fill:#3da44d; stroke:none; fill-opacity:1\" cx=\"584.121\" cy=\"384.878\" r=\"14\"/>\n",
       "<circle clip-path=\"url(#clip7302)\" style=\"fill:#000000; stroke:none; fill-opacity:1\" cx=\"420.957\" cy=\"158.579\" r=\"18\"/>\n",
       "<circle clip-path=\"url(#clip7302)\" style=\"fill:#3da44d; stroke:none; fill-opacity:1\" cx=\"420.957\" cy=\"158.579\" r=\"14\"/>\n",
       "<circle clip-path=\"url(#clip7302)\" style=\"fill:#000000; stroke:none; fill-opacity:1\" cx=\"372.008\" cy=\"175.987\" r=\"18\"/>\n",
       "<circle clip-path=\"url(#clip7302)\" style=\"fill:#3da44d; stroke:none; fill-opacity:1\" cx=\"372.008\" cy=\"175.987\" r=\"14\"/>\n",
       "<circle clip-path=\"url(#clip7302)\" style=\"fill:#000000; stroke:none; fill-opacity:1\" cx=\"921.325\" cy=\"587.966\" r=\"18\"/>\n",
       "<circle clip-path=\"url(#clip7302)\" style=\"fill:#3da44d; stroke:none; fill-opacity:1\" cx=\"921.325\" cy=\"587.966\" r=\"14\"/>\n",
       "<circle clip-path=\"url(#clip7302)\" style=\"fill:#000000; stroke:none; fill-opacity:1\" cx=\"687.457\" cy=\"222.407\" r=\"18\"/>\n",
       "<circle clip-path=\"url(#clip7302)\" style=\"fill:#3da44d; stroke:none; fill-opacity:1\" cx=\"687.457\" cy=\"222.407\" r=\"14\"/>\n",
       "<circle clip-path=\"url(#clip7302)\" style=\"fill:#000000; stroke:none; fill-opacity:1\" cx=\"785.355\" cy=\"408.088\" r=\"18\"/>\n",
       "<circle clip-path=\"url(#clip7302)\" style=\"fill:#3da44d; stroke:none; fill-opacity:1\" cx=\"785.355\" cy=\"408.088\" r=\"14\"/>\n",
       "<path clip-path=\"url(#clip7300)\" d=\"\n",
       "M2006 447.115 L2280.76 447.115 L2280.76 205.195 L2006 205.195  Z\n",
       "  \" fill=\"#ffffff\" fill-rule=\"evenodd\" fill-opacity=\"1\"/>\n",
       "<polyline clip-path=\"url(#clip7300)\" style=\"stroke:#000000; stroke-width:4; stroke-opacity:1; fill:none\" points=\"\n",
       "  2006,447.115 2280.76,447.115 2280.76,205.195 2006,205.195 2006,447.115 \n",
       "  \"/>\n",
       "<circle clip-path=\"url(#clip7300)\" style=\"fill:#000000; stroke:none; fill-opacity:1\" cx=\"2114\" cy=\"265.675\" r=\"25\"/>\n",
       "<circle clip-path=\"url(#clip7300)\" style=\"fill:#009af9; stroke:none; fill-opacity:1\" cx=\"2114\" cy=\"265.675\" r=\"21\"/>\n",
       "<g clip-path=\"url(#clip7300)\">\n",
       "<text style=\"fill:#000000; fill-opacity:1; font-family:Arial,Helvetica Neue,Helvetica,sans-serif; font-size:48px; text-anchor:start;\" transform=\"rotate(0, 2198, 283.175)\" x=\"2198\" y=\"283.175\">A</text>\n",
       "</g>\n",
       "<circle clip-path=\"url(#clip7300)\" style=\"fill:#000000; stroke:none; fill-opacity:1\" cx=\"2114\" cy=\"326.155\" r=\"25\"/>\n",
       "<circle clip-path=\"url(#clip7300)\" style=\"fill:#e26f46; stroke:none; fill-opacity:1\" cx=\"2114\" cy=\"326.155\" r=\"21\"/>\n",
       "<g clip-path=\"url(#clip7300)\">\n",
       "<text style=\"fill:#000000; fill-opacity:1; font-family:Arial,Helvetica Neue,Helvetica,sans-serif; font-size:48px; text-anchor:start;\" transform=\"rotate(0, 2198, 343.655)\" x=\"2198\" y=\"343.655\">B</text>\n",
       "</g>\n",
       "<circle clip-path=\"url(#clip7300)\" style=\"fill:#000000; stroke:none; fill-opacity:1\" cx=\"2114\" cy=\"386.635\" r=\"25\"/>\n",
       "<circle clip-path=\"url(#clip7300)\" style=\"fill:#3da44d; stroke:none; fill-opacity:1\" cx=\"2114\" cy=\"386.635\" r=\"21\"/>\n",
       "<g clip-path=\"url(#clip7300)\">\n",
       "<text style=\"fill:#000000; fill-opacity:1; font-family:Arial,Helvetica Neue,Helvetica,sans-serif; font-size:48px; text-anchor:start;\" transform=\"rotate(0, 2198, 404.135)\" x=\"2198\" y=\"404.135\">C</text>\n",
       "</g>\n",
       "</svg>\n"
      ]
     },
     "execution_count": 11,
     "metadata": {},
     "output_type": "execute_result"
    }
   ],
   "source": [
    "@df hormone_data scatter(:hrs, :amount, group=:lot, title=\"Hormone Data\", xlabel=\"hrs\", ylabel=\"amount\")"
   ]
  },
  {
   "cell_type": "markdown",
   "metadata": {},
   "source": [
    "# Least-Squares Regression"
   ]
  },
  {
   "cell_type": "code",
   "execution_count": 12,
   "metadata": {
    "ExecuteTime": {
     "end_time": "2020-02-05T22:28:15.150000-08:00",
     "start_time": "2020-02-06T06:26:54.964Z"
    }
   },
   "outputs": [
    {
     "data": {
      "text/plain": [
       "find_beta_linalg (generic function with 1 method)"
      ]
     },
     "execution_count": 12,
     "metadata": {},
     "output_type": "execute_result"
    }
   ],
   "source": [
    "function convert_z_to_c(z)\n",
    "    # create c_i = (1, z_i) matrix\n",
    "    c = ones((size(z)[1],2 ))\n",
    "    c[:, 2] = z # NOTE: indexing starts at ** 1 ** not 0\n",
    "    return c\n",
    "end\n",
    "\n",
    "function find_beta_linalg(z, y)\n",
    "    c = convert_z_to_c(z)\n",
    "    CtC = c' * c\n",
    "    beta = inv(CtC) * c' * y\n",
    "    return beta\n",
    "end"
   ]
  },
  {
   "cell_type": "code",
   "execution_count": 13,
   "metadata": {
    "ExecuteTime": {
     "end_time": "2020-02-05T22:28:16.635000-08:00",
     "start_time": "2020-02-06T06:26:54.967Z"
    }
   },
   "outputs": [
    {
     "name": "stdout",
     "output_type": "stream",
     "text": [
      "regression fit for lot A\n",
      "[33.360055310271214, -0.06829557032652461]\n",
      "\n",
      "regression fit for lot B\n",
      "[35.2298249505469, -0.05633908831743079]\n",
      "\n",
      "regression fit for lot C\n",
      "[37.19367089550014, -0.07451755561511669]\n",
      "\n"
     ]
    }
   ],
   "source": [
    "for lot in unique(hormone_data.lot)\n",
    "    lot_data = hormone_data[hormone_data.lot .== lot, :]\n",
    "    println(\"regression fit for lot \",lot)\n",
    "    println(find_beta_linalg(lot_data.hrs, lot_data.amount))\n",
    "    println()\n",
    "end"
   ]
  },
  {
   "cell_type": "code",
   "execution_count": 14,
   "metadata": {
    "ExecuteTime": {
     "end_time": "2020-02-05T22:28:16.844000-08:00",
     "start_time": "2020-02-06T06:26:54.970Z"
    }
   },
   "outputs": [
    {
     "name": "stdout",
     "output_type": "stream",
     "text": [
      "regression fit for all data\n",
      "[34.17204585413626, -0.05745123188814342]\n"
     ]
    }
   ],
   "source": [
    "println(\"regression fit for all data\")\n",
    "beta = find_beta_linalg(hormone_data.hrs, hormone_data.amount)\n",
    "println(beta)"
   ]
  },
  {
   "cell_type": "markdown",
   "metadata": {},
   "source": [
    "# Standard Error"
   ]
  },
  {
   "cell_type": "code",
   "execution_count": 15,
   "metadata": {
    "ExecuteTime": {
     "end_time": "2020-02-05T22:28:16.999000-08:00",
     "start_time": "2020-02-06T06:26:54.972Z"
    }
   },
   "outputs": [
    {
     "data": {
      "text/plain": [
       "find_se_bar (generic function with 1 method)"
      ]
     },
     "execution_count": 15,
     "metadata": {},
     "output_type": "execute_result"
    }
   ],
   "source": [
    "function RSE(z, y, b)\n",
    "    c = convert_z_to_c(z)\n",
    "    SSE = 0\n",
    "    for (i, yi) in enumerate(y)\n",
    "        SSE += (yi - transpose(c[i,:])*b)^2\n",
    "    end\n",
    "    return SSE\n",
    "end\n",
    "\n",
    "function find_Ginv(z)\n",
    "    c = convert_z_to_c(z)\n",
    "    G = c' * c\n",
    "    Ginv = inv(G)\n",
    "    return Ginv\n",
    "end\n",
    "\n",
    "function find_se_hat(z, y, beta)\n",
    "    s_f_hat = (RSE(z, y, beta)/size(y)[1])^0.5\n",
    "    Ginv = find_Ginv(z)\n",
    "    se_b0 = s_f_hat*sqrt(Ginv[1,1])\n",
    "    se_b1 = s_f_hat*sqrt(Ginv[2,2])\n",
    "    return se_b0, se_b1\n",
    "end\n",
    "\n",
    "function find_se_bar(z, y, beta)\n",
    "    c = convert_z_to_c(z)\n",
    "    s_f_bar = (RSE(z, y, beta)/(size(y)[1]-size(c)[2]))^0.5\n",
    "    Ginv = find_Ginv(z)\n",
    "    se_b0 = s_f_bar*sqrt(Ginv[1,1])\n",
    "    se_b1 = s_f_bar*sqrt(Ginv[2,2])\n",
    "    return se_b0, se_b1\n",
    "end"
   ]
  },
  {
   "cell_type": "code",
   "execution_count": 16,
   "metadata": {
    "ExecuteTime": {
     "end_time": "2020-02-05T22:28:17.390000-08:00",
     "start_time": "2020-02-06T06:26:54.974Z"
    }
   },
   "outputs": [
    {
     "name": "stdout",
     "output_type": "stream",
     "text": [
      "b0_h = 34.17204585413626\n",
      "b1_h = -0.05745123188814342\n",
      "seh_b0 = 0.8336667719106025\n",
      "seb_b0 = 0.8663719233186586\n",
      "seh_b1 = 0.004291564319310135\n",
      "seb_b1 = 0.004459924466996939\n"
     ]
    }
   ],
   "source": [
    "seh_b0, seh_b1 = find_se_hat(hormone_data.hrs, hormone_data.amount, beta)\n",
    "seb_b0, seb_b1 = find_se_bar(hormone_data.hrs, hormone_data.amount, beta)\n",
    "\n",
    "println(\"b0_h = \",beta[1])\n",
    "println(\"b1_h = \", beta[2])\n",
    "println(\"seh_b0 = \", seh_b0)\n",
    "println(\"seb_b0 = \", seb_b0)\n",
    "println(\"seh_b1 = \", seh_b1)\n",
    "println(\"seb_b1 = \", seb_b1)"
   ]
  },
  {
   "cell_type": "markdown",
   "metadata": {},
   "source": [
    "# Bootstrap the residuals"
   ]
  },
  {
   "cell_type": "code",
   "execution_count": 19,
   "metadata": {
    "ExecuteTime": {
     "end_time": "2020-02-05T22:31:23.740000-08:00",
     "start_time": "2020-02-06T06:31:23.710Z"
    }
   },
   "outputs": [
    {
     "data": {
      "text/plain": [
       "bootstrap_errors_to_y_star (generic function with 1 method)"
      ]
     },
     "execution_count": 19,
     "metadata": {},
     "output_type": "execute_result"
    }
   ],
   "source": [
    "function get_errors(z, y, beta)\n",
    "    c = convert_z_to_c(z)\n",
    "    e = y - c*beta\n",
    "    return e\n",
    "end\n",
    "\n",
    "function bootstrap_errors_to_y_star(z, beta, e)\n",
    "    c = convert_z_to_c(z)\n",
    "    e_star = sample(e, size(e)[1], replace=true)\n",
    "    y_star = c*beta + e_star\n",
    "    return e_star, y_star\n",
    "end"
   ]
  },
  {
   "cell_type": "code",
   "execution_count": 20,
   "metadata": {
    "ExecuteTime": {
     "end_time": "2020-02-05T22:31:25.684000-08:00",
     "start_time": "2020-02-06T06:31:25.660Z"
    }
   },
   "outputs": [
    {
     "name": "stdout",
     "output_type": "stream",
     "text": [
      "b0_h = 34.60518982247443\n",
      "b1_h = -0.055596290731678724\n",
      "seh_b0 = 0.8416333464928419\n",
      "seb_b0 = 0.8746510304818943\n",
      "seh_b1 = 0.004332574790611405\n",
      "seb_b1 = 0.004502543798958627\n"
     ]
    }
   ],
   "source": [
    "y = hormone_data.amount\n",
    "z = hormone_data.hrs\n",
    "e = get_errors(z, y, beta)\n",
    "\n",
    "e_star, y_star = bootstrap_errors_to_y_star(z, beta, e)\n",
    "beta_star = find_beta_linalg(z, y_star)\n",
    "\n",
    "seh_b0,seh_b1 = find_se_hat(z, y_star, beta_star)\n",
    "seb_b0,seb_b1 = find_se_bar(z, y_star, beta_star)\n",
    "\n",
    "println(\"b0_h = \",beta_star[1])\n",
    "println(\"b1_h = \",beta_star[2])\n",
    "println(\"seh_b0 = \",seh_b0)\n",
    "println(\"seb_b0 = \",seb_b0)\n",
    "println(\"seh_b1 = \",seh_b1)\n",
    "println(\"seb_b1 = \",seb_b1)"
   ]
  },
  {
   "cell_type": "code",
   "execution_count": null,
   "metadata": {},
   "outputs": [],
   "source": []
  }
 ],
 "metadata": {
  "kernelspec": {
   "display_name": "Julia 1.3.1",
   "language": "julia",
   "name": "julia-1.3"
  },
  "language_info": {
   "file_extension": ".jl",
   "mimetype": "application/julia",
   "name": "julia",
   "version": "1.3.1"
  },
  "toc": {
   "base_numbering": 1,
   "nav_menu": {},
   "number_sections": true,
   "sideBar": true,
   "skip_h1_title": false,
   "title_cell": "Table of Contents",
   "title_sidebar": "Contents",
   "toc_cell": false,
   "toc_position": {},
   "toc_section_display": true,
   "toc_window_display": false
  },
  "varInspector": {
   "cols": {
    "lenName": 16,
    "lenType": 16,
    "lenVar": 40
   },
   "kernels_config": {
    "python": {
     "delete_cmd_postfix": "",
     "delete_cmd_prefix": "del ",
     "library": "var_list.py",
     "varRefreshCmd": "print(var_dic_list())"
    },
    "r": {
     "delete_cmd_postfix": ") ",
     "delete_cmd_prefix": "rm(",
     "library": "var_list.r",
     "varRefreshCmd": "cat(var_dic_list()) "
    }
   },
   "types_to_exclude": [
    "module",
    "function",
    "builtin_function_or_method",
    "instance",
    "_Feature"
   ],
   "window_display": false
  }
 },
 "nbformat": 4,
 "nbformat_minor": 2
}
