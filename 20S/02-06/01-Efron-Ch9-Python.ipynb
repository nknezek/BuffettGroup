{
 "cells": [
  {
   "cell_type": "code",
   "execution_count": 1,
   "metadata": {
    "ExecuteTime": {
     "end_time": "2020-02-04T03:04:25.732001Z",
     "start_time": "2020-02-04T03:04:22.052539Z"
    }
   },
   "outputs": [],
   "source": [
    "import numpy as np\n",
    "import matplotlib.pyplot as plt\n",
    "%matplotlib inline"
   ]
  },
  {
   "cell_type": "markdown",
   "metadata": {},
   "source": [
    "# Inputting data"
   ]
  },
  {
   "cell_type": "code",
   "execution_count": 136,
   "metadata": {
    "ExecuteTime": {
     "end_time": "2020-02-04T04:22:05.591691Z",
     "start_time": "2020-02-04T04:22:05.575041Z"
    }
   },
   "outputs": [
    {
     "name": "stdout",
     "output_type": "stream",
     "text": [
      "A  [150.55555556  23.07777778]\n",
      "B  [233.44444444  22.07777778]\n",
      "C  [111.          28.92222222]\n"
     ]
    }
   ],
   "source": [
    "# hormone data, table 9.1 (p. 107)\n",
    "\n",
    "A = np.array([\n",
    "    [99, 25.8],\n",
    "    [152, 20.5],\n",
    "    [293, 14.3],\n",
    "    [155, 23.2],\n",
    "    [196, 20.6],\n",
    "    [53, 31.1],\n",
    "    [184, 20.9],\n",
    "    [171, 20.9],\n",
    "    [52, 30.4]\n",
    "]);\n",
    "y_A = A[:,1]\n",
    "c_A = np.ones_like(A)\n",
    "c_A[:,1] = A[:,0]\n",
    "\n",
    "B = np.array([\n",
    "    [376, 16.3],\n",
    "    [385, 11.6],\n",
    "    [402, 11.8],\n",
    "    [29, 32.5],\n",
    "    [76, 32.0],\n",
    "    [296, 18.0],\n",
    "    [151, 24.2],\n",
    "    [177, 26.5],\n",
    "    [209, 25.8]\n",
    "]);\n",
    "y_B = B[:,1]\n",
    "c_B = np.ones_like(B)\n",
    "c_B[:,1] = B[:,0]\n",
    "\n",
    "C = np.array([    \n",
    "    [119, 28.8],\n",
    "    [188, 22.0],\n",
    "    [115, 29.7],\n",
    "    [88, 28.9],\n",
    "    [58, 32.8],\n",
    "    [49, 32.5],\n",
    "    [150, 25.4],\n",
    "    [107, 31.7],\n",
    "    [125, 28.5]\n",
    "]);\n",
    "\n",
    "y_C = C[:,1]\n",
    "c_C = np.ones_like(A)\n",
    "c_C[:,1] = C[:,0]\n",
    "\n",
    "y_all = np.hstack((y_A, y_B,y_C))\n",
    "c_all = np.vstack((c_A, c_B,c_C))\n",
    "\n",
    "print(\"A \", np.mean(A,axis=0))\n",
    "print(\"B \", np.mean(B,axis=0))\n",
    "print(\"C \", np.mean(C,axis=0))"
   ]
  },
  {
   "cell_type": "markdown",
   "metadata": {},
   "source": [
    "# Plotting Data"
   ]
  },
  {
   "cell_type": "code",
   "execution_count": 70,
   "metadata": {
    "ExecuteTime": {
     "end_time": "2020-02-04T03:38:46.572804Z",
     "start_time": "2020-02-04T03:38:46.315065Z"
    }
   },
   "outputs": [
    {
     "data": {
      "text/plain": [
       "<matplotlib.legend.Legend at 0x118eca7b8>"
      ]
     },
     "execution_count": 70,
     "metadata": {},
     "output_type": "execute_result"
    },
    {
     "data": {
      "image/png": "[encoded data removed]",
      "text/plain": [
       "<Figure size 432x288 with 1 Axes>"
      ]
     },
     "metadata": {
      "needs_background": "light"
     },
     "output_type": "display_data"
    }
   ],
   "source": [
    "plt.plot(A[:,0],A[:,1],'+', label='A')\n",
    "plt.plot(B[:,0],B[:,1],'o', label='B')\n",
    "plt.plot(C[:,0],C[:,1],'^', label='C')\n",
    "plt.legend()"
   ]
  },
  {
   "cell_type": "markdown",
   "metadata": {},
   "source": [
    "# Least-Squares Regression"
   ]
  },
  {
   "cell_type": "code",
   "execution_count": 140,
   "metadata": {
    "ExecuteTime": {
     "end_time": "2020-02-04T04:23:15.734175Z",
     "start_time": "2020-02-04T04:23:15.727802Z"
    }
   },
   "outputs": [],
   "source": [
    "def find_beta_linalg(c_A, y_A):\n",
    "    CtC = c_A.T.dot(c_A)\n",
    "    beta_A = np.linalg.inv(CtC).dot(c_A.T.dot(y_A))\n",
    "    return beta_A\n"
   ]
  },
  {
   "cell_type": "code",
   "execution_count": 125,
   "metadata": {
    "ExecuteTime": {
     "end_time": "2020-02-04T04:19:17.460351Z",
     "start_time": "2020-02-04T04:19:17.455248Z"
    }
   },
   "outputs": [
    {
     "data": {
      "text/plain": [
       "array([33.36005531, -0.06829557])"
      ]
     },
     "execution_count": 125,
     "metadata": {},
     "output_type": "execute_result"
    }
   ],
   "source": [
    "find_beta_linalg(c_A, y_A)"
   ]
  },
  {
   "cell_type": "code",
   "execution_count": 126,
   "metadata": {
    "ExecuteTime": {
     "end_time": "2020-02-04T04:20:37.472066Z",
     "start_time": "2020-02-04T04:20:37.463428Z"
    }
   },
   "outputs": [
    {
     "data": {
      "text/plain": [
       "array([35.22982495, -0.05633909])"
      ]
     },
     "execution_count": 126,
     "metadata": {},
     "output_type": "execute_result"
    }
   ],
   "source": [
    "find_beta_linalg(c_B, y_B)"
   ]
  },
  {
   "cell_type": "code",
   "execution_count": 127,
   "metadata": {
    "ExecuteTime": {
     "end_time": "2020-02-04T04:20:37.472066Z",
     "start_time": "2020-02-04T04:20:37.463428Z"
    }
   },
   "outputs": [
    {
     "data": {
      "text/plain": [
       "array([37.1936709 , -0.07451756])"
      ]
     },
     "execution_count": 127,
     "metadata": {},
     "output_type": "execute_result"
    }
   ],
   "source": [
    "find_beta_linalg(c_C, y_C)"
   ]
  },
  {
   "cell_type": "code",
   "execution_count": 143,
   "metadata": {
    "ExecuteTime": {
     "end_time": "2020-02-04T04:25:09.340751Z",
     "start_time": "2020-02-04T04:25:09.330203Z"
    }
   },
   "outputs": [
    {
     "data": {
      "text/plain": [
       "array([34.17204585, -0.05745123])"
      ]
     },
     "execution_count": 143,
     "metadata": {},
     "output_type": "execute_result"
    }
   ],
   "source": [
    "beta = find_beta_linalg(c_all, y_all)\n",
    "beta"
   ]
  },
  {
   "cell_type": "markdown",
   "metadata": {},
   "source": [
    "# Standard Error"
   ]
  },
  {
   "cell_type": "code",
   "execution_count": 181,
   "metadata": {
    "ExecuteTime": {
     "end_time": "2020-02-04T04:41:49.460370Z",
     "start_time": "2020-02-04T04:41:49.449254Z"
    }
   },
   "outputs": [],
   "source": [
    "def RSE(c, y, b):\n",
    "    return np.sum([(yi-ci.dot(b))**2 for yi, ci in zip(y,c)])\n",
    "\n",
    "def find_Ginv(c_all):\n",
    "    G = c_all.T.dot(c_all)\n",
    "    Ginv = np.linalg.inv(G)\n",
    "    return Ginv\n",
    "\n",
    "def find_se_hat(c_all, y_all, beta):\n",
    "    s_f_hat = (RSE(c_all, y_all, beta)/len(y_all))**0.5\n",
    "    Ginv = find_Ginv(c_all)\n",
    "    se_b0 = s_f_hat*np.sqrt(Ginv[0,0])\n",
    "    se_b1 = s_f_hat*np.sqrt(Ginv[1,1])\n",
    "    return se_b0, se_b1\n",
    "\n",
    "def find_se_bar(c_all, y_all, beta):\n",
    "    s_f_bar = (RSE(c_all, y_all, beta)/(len(y_all)-c_all.shape[1]))**0.5\n",
    "    Ginv = find_Ginv(c_all)\n",
    "    se_b0 = s_f_bar*np.sqrt(Ginv[0,0])\n",
    "    se_b1 = s_f_bar*np.sqrt(Ginv[1,1])\n",
    "    return se_b0, se_b1"
   ]
  },
  {
   "cell_type": "code",
   "execution_count": 185,
   "metadata": {
    "ExecuteTime": {
     "end_time": "2020-02-04T04:44:00.890346Z",
     "start_time": "2020-02-04T04:44:00.878558Z"
    }
   },
   "outputs": [
    {
     "name": "stdout",
     "output_type": "stream",
     "text": [
      "b0_h = 34.17\n",
      "b1_h = -0.0575\n",
      "seh_b0 = 0.83\n",
      "seb_b0 = 0.87\n",
      "seh_b1 = 0.0043\n",
      "seb_b1 = 0.0045\n"
     ]
    }
   ],
   "source": [
    "seh_b0,seh_b1 = find_se_hat(c_all, y_all, beta)\n",
    "seb_b0,seb_b1 = find_se_bar(c_all, y_all, beta)\n",
    "print(f\"b0_h = {beta[0]:.2f}\")\n",
    "print(f\"b1_h = {beta[1]:.4f}\")\n",
    "print(f\"seh_b0 = {seh_b0:.2f}\")\n",
    "print(f\"seb_b0 = {seb_b0:.2f}\")\n",
    "print(f\"seh_b1 = {seh_b1:.4f}\")\n",
    "print(f\"seb_b1 = {seb_b1:.4f}\")"
   ]
  },
  {
   "cell_type": "markdown",
   "metadata": {},
   "source": [
    "# Bootstrap the residuals"
   ]
  },
  {
   "cell_type": "code",
   "execution_count": 220,
   "metadata": {
    "ExecuteTime": {
     "end_time": "2020-02-04T05:04:26.809527Z",
     "start_time": "2020-02-04T05:04:26.797120Z"
    }
   },
   "outputs": [
    {
     "name": "stdout",
     "output_type": "stream",
     "text": [
      "b0_h = 34.80\n",
      "b1_h = -0.0567\n",
      "seh_b0 = 0.87\n",
      "seb_b0 = 0.91\n",
      "seh_b1 = 0.0045\n",
      "seb_b1 = 0.0047\n"
     ]
    }
   ],
   "source": [
    "e = y_all-c_all.dot(beta)\n",
    "\n",
    "e_star = np.random.choice(e, len(e))\n",
    "y_star = c_all.dot(beta)+e_star\n",
    "\n",
    "beta_star = find_beta_linalg(c_all, y_star)\n",
    "\n",
    "seh_b0,seh_b1 = find_se_hat(c_all, y_star, beta_star)\n",
    "seb_b0,seb_b1 = find_se_bar(c_all, y_star, beta_star)\n",
    "print(f\"b0_h = {beta_star[0]:.2f}\")\n",
    "print(f\"b1_h = {beta_star[1]:.4f}\")\n",
    "print(f\"seh_b0 = {seh_b0:.2f}\")\n",
    "print(f\"seb_b0 = {seb_b0:.2f}\")\n",
    "print(f\"seh_b1 = {seh_b1:.4f}\")\n",
    "print(f\"seb_b1 = {seb_b1:.4f}\")"
   ]
  },
  {
   "cell_type": "code",
   "execution_count": null,
   "metadata": {},
   "outputs": [],
   "source": []
  }
 ],
 "metadata": {
  "kernelspec": {
   "display_name": "Python 3",
   "language": "python",
   "name": "python3"
  },
  "language_info": {
   "codemirror_mode": {
    "name": "ipython",
    "version": 3
   },
   "file_extension": ".py",
   "mimetype": "text/x-python",
   "name": "python",
   "nbconvert_exporter": "python",
   "pygments_lexer": "ipython3",
   "version": "3.7.2"
  },
  "toc": {
   "base_numbering": 1,
   "nav_menu": {},
   "number_sections": true,
   "sideBar": true,
   "skip_h1_title": false,
   "title_cell": "Table of Contents",
   "title_sidebar": "Contents",
   "toc_cell": false,
   "toc_position": {},
   "toc_section_display": true,
   "toc_window_display": false
  },
  "varInspector": {
   "cols": {
    "lenName": 16,
    "lenType": 16,
    "lenVar": 40
   },
   "kernels_config": {
    "python": {
     "delete_cmd_postfix": "",
     "delete_cmd_prefix": "del ",
     "library": "var_list.py",
     "varRefreshCmd": "print(var_dic_list())"
    },
    "r": {
     "delete_cmd_postfix": ") ",
     "delete_cmd_prefix": "rm(",
     "library": "var_list.r",
     "varRefreshCmd": "cat(var_dic_list()) "
    }
   },
   "types_to_exclude": [
    "module",
    "function",
    "builtin_function_or_method",
    "instance",
    "_Feature"
   ],
   "window_display": false
  }
 },
 "nbformat": 4,
 "nbformat_minor": 2
}
