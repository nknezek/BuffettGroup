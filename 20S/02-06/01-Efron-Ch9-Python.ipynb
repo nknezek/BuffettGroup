{
 "cells": [
  {
   "cell_type": "code",
   "execution_count": 1,
   "metadata": {
    "ExecuteTime": {
     "end_time": "2020-02-06T05:43:43.535456Z",
     "start_time": "2020-02-06T05:43:42.591016Z"
    }
   },
   "outputs": [],
   "source": [
    "import numpy as np\n",
    "import matplotlib.pyplot as plt\n",
    "import pandas as pd\n",
    "import seaborn as sns\n",
    "%matplotlib inline"
   ]
  },
  {
   "cell_type": "markdown",
   "metadata": {},
   "source": [
    "# Read in data"
   ]
  },
  {
   "cell_type": "code",
   "execution_count": 2,
   "metadata": {
    "ExecuteTime": {
     "end_time": "2020-02-06T05:43:43.549376Z",
     "start_time": "2020-02-06T05:43:43.537725Z"
    }
   },
   "outputs": [],
   "source": [
    "hormone_data = pd.read_csv('hormone_data.csv')"
   ]
  },
  {
   "cell_type": "code",
   "execution_count": 3,
   "metadata": {
    "ExecuteTime": {
     "end_time": "2020-02-06T05:43:43.567061Z",
     "start_time": "2020-02-06T05:43:43.555252Z"
    }
   },
   "outputs": [
    {
     "name": "stdout",
     "output_type": "stream",
     "text": [
      "<class 'pandas.core.frame.DataFrame'>\n",
      "RangeIndex: 27 entries, 0 to 26\n",
      "Data columns (total 3 columns):\n",
      "lot       27 non-null object\n",
      "hrs       27 non-null int64\n",
      "amount    27 non-null float64\n",
      "dtypes: float64(1), int64(1), object(1)\n",
      "memory usage: 776.0+ bytes\n"
     ]
    }
   ],
   "source": [
    "hormone_data.info()"
   ]
  },
  {
   "cell_type": "code",
   "execution_count": 4,
   "metadata": {
    "ExecuteTime": {
     "end_time": "2020-02-06T05:43:43.587930Z",
     "start_time": "2020-02-06T05:43:43.573314Z"
    }
   },
   "outputs": [
    {
     "data": {
      "text/html": [
       "<div>\n",
       "<style scoped>\n",
       "    .dataframe tbody tr th:only-of-type {\n",
       "        vertical-align: middle;\n",
       "    }\n",
       "\n",
       "    .dataframe tbody tr th {\n",
       "        vertical-align: top;\n",
       "    }\n",
       "\n",
       "    .dataframe thead th {\n",
       "        text-align: right;\n",
       "    }\n",
       "</style>\n",
       "<table border=\"1\" class=\"dataframe\">\n",
       "  <thead>\n",
       "    <tr style=\"text-align: right;\">\n",
       "      <th></th>\n",
       "      <th>lot</th>\n",
       "      <th>hrs</th>\n",
       "      <th>amount</th>\n",
       "    </tr>\n",
       "  </thead>\n",
       "  <tbody>\n",
       "    <tr>\n",
       "      <th>0</th>\n",
       "      <td>A</td>\n",
       "      <td>99</td>\n",
       "      <td>25.8</td>\n",
       "    </tr>\n",
       "    <tr>\n",
       "      <th>1</th>\n",
       "      <td>A</td>\n",
       "      <td>152</td>\n",
       "      <td>20.5</td>\n",
       "    </tr>\n",
       "    <tr>\n",
       "      <th>2</th>\n",
       "      <td>A</td>\n",
       "      <td>293</td>\n",
       "      <td>14.3</td>\n",
       "    </tr>\n",
       "    <tr>\n",
       "      <th>3</th>\n",
       "      <td>A</td>\n",
       "      <td>155</td>\n",
       "      <td>23.2</td>\n",
       "    </tr>\n",
       "    <tr>\n",
       "      <th>4</th>\n",
       "      <td>A</td>\n",
       "      <td>196</td>\n",
       "      <td>20.6</td>\n",
       "    </tr>\n",
       "  </tbody>\n",
       "</table>\n",
       "</div>"
      ],
      "text/plain": [
       "  lot  hrs  amount\n",
       "0   A   99    25.8\n",
       "1   A  152    20.5\n",
       "2   A  293    14.3\n",
       "3   A  155    23.2\n",
       "4   A  196    20.6"
      ]
     },
     "execution_count": 4,
     "metadata": {},
     "output_type": "execute_result"
    }
   ],
   "source": [
    "hormone_data.head()"
   ]
  },
  {
   "cell_type": "code",
   "execution_count": 5,
   "metadata": {
    "ExecuteTime": {
     "end_time": "2020-02-06T05:43:43.615544Z",
     "start_time": "2020-02-06T05:43:43.591050Z"
    }
   },
   "outputs": [
    {
     "data": {
      "text/html": [
       "<div>\n",
       "<style scoped>\n",
       "    .dataframe tbody tr th:only-of-type {\n",
       "        vertical-align: middle;\n",
       "    }\n",
       "\n",
       "    .dataframe tbody tr th {\n",
       "        vertical-align: top;\n",
       "    }\n",
       "\n",
       "    .dataframe thead th {\n",
       "        text-align: right;\n",
       "    }\n",
       "</style>\n",
       "<table border=\"1\" class=\"dataframe\">\n",
       "  <thead>\n",
       "    <tr style=\"text-align: right;\">\n",
       "      <th></th>\n",
       "      <th>lot</th>\n",
       "      <th>hrs</th>\n",
       "      <th>amount</th>\n",
       "    </tr>\n",
       "  </thead>\n",
       "  <tbody>\n",
       "    <tr>\n",
       "      <th>22</th>\n",
       "      <td>C</td>\n",
       "      <td>58</td>\n",
       "      <td>32.8</td>\n",
       "    </tr>\n",
       "    <tr>\n",
       "      <th>23</th>\n",
       "      <td>C</td>\n",
       "      <td>49</td>\n",
       "      <td>32.5</td>\n",
       "    </tr>\n",
       "    <tr>\n",
       "      <th>24</th>\n",
       "      <td>C</td>\n",
       "      <td>150</td>\n",
       "      <td>25.4</td>\n",
       "    </tr>\n",
       "    <tr>\n",
       "      <th>25</th>\n",
       "      <td>C</td>\n",
       "      <td>107</td>\n",
       "      <td>31.7</td>\n",
       "    </tr>\n",
       "    <tr>\n",
       "      <th>26</th>\n",
       "      <td>C</td>\n",
       "      <td>125</td>\n",
       "      <td>28.5</td>\n",
       "    </tr>\n",
       "  </tbody>\n",
       "</table>\n",
       "</div>"
      ],
      "text/plain": [
       "   lot  hrs  amount\n",
       "22   C   58    32.8\n",
       "23   C   49    32.5\n",
       "24   C  150    25.4\n",
       "25   C  107    31.7\n",
       "26   C  125    28.5"
      ]
     },
     "execution_count": 5,
     "metadata": {},
     "output_type": "execute_result"
    }
   ],
   "source": [
    "hormone_data.tail()"
   ]
  },
  {
   "cell_type": "code",
   "execution_count": 6,
   "metadata": {
    "ExecuteTime": {
     "end_time": "2020-02-06T05:43:43.682588Z",
     "start_time": "2020-02-06T05:43:43.632883Z"
    }
   },
   "outputs": [
    {
     "data": {
      "text/html": [
       "<div>\n",
       "<style scoped>\n",
       "    .dataframe tbody tr th:only-of-type {\n",
       "        vertical-align: middle;\n",
       "    }\n",
       "\n",
       "    .dataframe tbody tr th {\n",
       "        vertical-align: top;\n",
       "    }\n",
       "\n",
       "    .dataframe thead th {\n",
       "        text-align: right;\n",
       "    }\n",
       "</style>\n",
       "<table border=\"1\" class=\"dataframe\">\n",
       "  <thead>\n",
       "    <tr style=\"text-align: right;\">\n",
       "      <th></th>\n",
       "      <th>lot</th>\n",
       "      <th>hrs</th>\n",
       "      <th>amount</th>\n",
       "    </tr>\n",
       "  </thead>\n",
       "  <tbody>\n",
       "    <tr>\n",
       "      <th>count</th>\n",
       "      <td>27</td>\n",
       "      <td>27.000000</td>\n",
       "      <td>27.000000</td>\n",
       "    </tr>\n",
       "    <tr>\n",
       "      <th>unique</th>\n",
       "      <td>3</td>\n",
       "      <td>NaN</td>\n",
       "      <td>NaN</td>\n",
       "    </tr>\n",
       "    <tr>\n",
       "      <th>top</th>\n",
       "      <td>C</td>\n",
       "      <td>NaN</td>\n",
       "      <td>NaN</td>\n",
       "    </tr>\n",
       "    <tr>\n",
       "      <th>freq</th>\n",
       "      <td>9</td>\n",
       "      <td>NaN</td>\n",
       "      <td>NaN</td>\n",
       "    </tr>\n",
       "    <tr>\n",
       "      <th>mean</th>\n",
       "      <td>NaN</td>\n",
       "      <td>165.000000</td>\n",
       "      <td>24.692593</td>\n",
       "    </tr>\n",
       "    <tr>\n",
       "      <th>std</th>\n",
       "      <td>NaN</td>\n",
       "      <td>104.475246</td>\n",
       "      <td>6.438521</td>\n",
       "    </tr>\n",
       "    <tr>\n",
       "      <th>min</th>\n",
       "      <td>NaN</td>\n",
       "      <td>29.000000</td>\n",
       "      <td>11.600000</td>\n",
       "    </tr>\n",
       "    <tr>\n",
       "      <th>25%</th>\n",
       "      <td>NaN</td>\n",
       "      <td>93.500000</td>\n",
       "      <td>20.750000</td>\n",
       "    </tr>\n",
       "    <tr>\n",
       "      <th>50%</th>\n",
       "      <td>NaN</td>\n",
       "      <td>151.000000</td>\n",
       "      <td>25.800000</td>\n",
       "    </tr>\n",
       "    <tr>\n",
       "      <th>75%</th>\n",
       "      <td>NaN</td>\n",
       "      <td>192.000000</td>\n",
       "      <td>30.050000</td>\n",
       "    </tr>\n",
       "    <tr>\n",
       "      <th>max</th>\n",
       "      <td>NaN</td>\n",
       "      <td>402.000000</td>\n",
       "      <td>32.800000</td>\n",
       "    </tr>\n",
       "  </tbody>\n",
       "</table>\n",
       "</div>"
      ],
      "text/plain": [
       "        lot         hrs     amount\n",
       "count    27   27.000000  27.000000\n",
       "unique    3         NaN        NaN\n",
       "top       C         NaN        NaN\n",
       "freq      9         NaN        NaN\n",
       "mean    NaN  165.000000  24.692593\n",
       "std     NaN  104.475246   6.438521\n",
       "min     NaN   29.000000  11.600000\n",
       "25%     NaN   93.500000  20.750000\n",
       "50%     NaN  151.000000  25.800000\n",
       "75%     NaN  192.000000  30.050000\n",
       "max     NaN  402.000000  32.800000"
      ]
     },
     "execution_count": 6,
     "metadata": {},
     "output_type": "execute_result"
    }
   ],
   "source": [
    "hormone_data.describe(include='all')"
   ]
  },
  {
   "cell_type": "code",
   "execution_count": 7,
   "metadata": {
    "ExecuteTime": {
     "end_time": "2020-02-06T05:43:43.760503Z",
     "start_time": "2020-02-06T05:43:43.725822Z"
    }
   },
   "outputs": [
    {
     "name": "stdout",
     "output_type": "stream",
     "text": [
      "lot A means\n",
      "hrs       150.555556\n",
      "amount     23.077778\n",
      "dtype: float64\n",
      "\n",
      "lot B means\n",
      "hrs       233.444444\n",
      "amount     22.077778\n",
      "dtype: float64\n",
      "\n",
      "lot C means\n",
      "hrs       111.000000\n",
      "amount     28.922222\n",
      "dtype: float64\n",
      "\n"
     ]
    }
   ],
   "source": [
    "for lot in hormone_data.lot.unique():\n",
    "    print(f'lot {lot} means')\n",
    "    print(hormone_data[hormone_data.lot==lot].mean())\n",
    "    print()"
   ]
  },
  {
   "cell_type": "markdown",
   "metadata": {},
   "source": [
    "# Plot Data"
   ]
  },
  {
   "cell_type": "code",
   "execution_count": 8,
   "metadata": {
    "ExecuteTime": {
     "end_time": "2020-02-06T05:43:44.122045Z",
     "start_time": "2020-02-06T05:43:43.767803Z"
    }
   },
   "outputs": [
    {
     "data": {
      "text/plain": [
       "Text(0.5, 1.0, 'Hormone Data')"
      ]
     },
     "execution_count": 8,
     "metadata": {},
     "output_type": "execute_result"
    },
    {
     "data": {
      "image/png": "[encoded data removed]",
      "text/plain": [
       "<Figure size 432x288 with 1 Axes>"
      ]
     },
     "metadata": {
      "needs_background": "light"
     },
     "output_type": "display_data"
    }
   ],
   "source": [
    "sns.scatterplot(x='hrs',y='amount', hue='lot', data=hormone_data)\n",
    "plt.title(\"Hormone Data\")"
   ]
  },
  {
   "cell_type": "markdown",
   "metadata": {},
   "source": [
    "# Least-Squares Regression"
   ]
  },
  {
   "cell_type": "code",
   "execution_count": 16,
   "metadata": {
    "ExecuteTime": {
     "end_time": "2020-02-06T05:51:37.133798Z",
     "start_time": "2020-02-06T05:51:37.125905Z"
    }
   },
   "outputs": [],
   "source": [
    "def convert_z_to_c(z):\n",
    "    # create c_i = (1, z_i) matrix\n",
    "    c = np.ones((len(z),2))\n",
    "    c[:,1] = z\n",
    "    return c\n",
    "\n",
    "def find_beta_linalg(z, y):\n",
    "    c = convert_z_to_c(z)\n",
    "    CtC = c.T.dot(c) # inner-product matrix\n",
    "    beta = np.linalg.inv(CtC).dot(c.T.dot(y))\n",
    "    return beta\n"
   ]
  },
  {
   "cell_type": "code",
   "execution_count": 10,
   "metadata": {
    "ExecuteTime": {
     "end_time": "2020-02-06T05:43:44.161318Z",
     "start_time": "2020-02-06T05:43:44.137638Z"
    },
    "scrolled": true
   },
   "outputs": [
    {
     "name": "stdout",
     "output_type": "stream",
     "text": [
      "regression fit for lot A\n",
      "[33.36005531 -0.06829557]\n",
      "\n",
      "regression fit for lot B\n",
      "[35.22982495 -0.05633909]\n",
      "\n",
      "regression fit for lot C\n",
      "[37.1936709  -0.07451756]\n",
      "\n"
     ]
    }
   ],
   "source": [
    "for lot in hormone_data.lot.unique():\n",
    "    lot_data = hormone_data[hormone_data.lot == lot]\n",
    "    print(f\"regression fit for lot {lot}\")\n",
    "    print(find_beta_linalg(lot_data.hrs, lot_data.amount))\n",
    "    print()"
   ]
  },
  {
   "cell_type": "code",
   "execution_count": 17,
   "metadata": {
    "ExecuteTime": {
     "end_time": "2020-02-06T05:58:18.701266Z",
     "start_time": "2020-02-06T05:58:18.688045Z"
    }
   },
   "outputs": [
    {
     "name": "stdout",
     "output_type": "stream",
     "text": [
      "regression fit for all data\n",
      "[34.17204585 -0.05745123]\n"
     ]
    }
   ],
   "source": [
    "print(f\"regression fit for all data\")\n",
    "beta = find_beta_linalg(hormone_data.hrs, hormone_data.amount)\n",
    "print(beta)"
   ]
  },
  {
   "cell_type": "markdown",
   "metadata": {},
   "source": [
    "# Standard Error"
   ]
  },
  {
   "cell_type": "code",
   "execution_count": 12,
   "metadata": {
    "ExecuteTime": {
     "end_time": "2020-02-06T05:43:44.268733Z",
     "start_time": "2020-02-06T05:43:44.229514Z"
    }
   },
   "outputs": [],
   "source": [
    "def RSE(z, y, b):\n",
    "    c = convert_z_to_c(z)\n",
    "    return np.sum([(yi-ci.dot(b))**2 for yi, ci in zip(y,c)])\n",
    "\n",
    "def find_Ginv(z):\n",
    "    c = convert_z_to_c(z)\n",
    "    G = c.T.dot(c)\n",
    "    Ginv = np.linalg.inv(G)\n",
    "    return Ginv\n",
    "\n",
    "def find_se_hat(z, y, beta):\n",
    "    s_f_hat = (RSE(z, y, beta)/len(y))**0.5\n",
    "    Ginv = find_Ginv(z)\n",
    "    se_b0 = s_f_hat*np.sqrt(Ginv[0,0])\n",
    "    se_b1 = s_f_hat*np.sqrt(Ginv[1,1])\n",
    "    return se_b0, se_b1\n",
    "\n",
    "def find_se_bar(z, y, beta):\n",
    "    c = convert_z_to_c(z)\n",
    "    s_f_bar = (RSE(z, y, beta)/(len(y)-c.shape[1]))**0.5\n",
    "    Ginv = find_Ginv(z)\n",
    "    se_b0 = s_f_bar*np.sqrt(Ginv[0,0])\n",
    "    se_b1 = s_f_bar*np.sqrt(Ginv[1,1])\n",
    "    return se_b0, se_b1"
   ]
  },
  {
   "cell_type": "code",
   "execution_count": 13,
   "metadata": {
    "ExecuteTime": {
     "end_time": "2020-02-06T05:43:44.292880Z",
     "start_time": "2020-02-06T05:43:44.273744Z"
    }
   },
   "outputs": [
    {
     "name": "stdout",
     "output_type": "stream",
     "text": [
      "b0_h = 34.17\n",
      "b1_h = -0.0575\n",
      "seh_b0 = 0.83\n",
      "seb_b0 = 0.87\n",
      "seh_b1 = 0.0043\n",
      "seb_b1 = 0.0045\n"
     ]
    }
   ],
   "source": [
    "seh_b0, seh_b1 = find_se_hat(hormone_data.hrs, hormone_data.amount, beta)\n",
    "seb_b0, seb_b1 = find_se_bar(hormone_data.hrs, hormone_data.amount, beta)\n",
    "print(f\"b0_h = {beta[0]:.2f}\")\n",
    "print(f\"b1_h = {beta[1]:.4f}\")\n",
    "print(f\"seh_b0 = {seh_b0:.2f}\")\n",
    "print(f\"seb_b0 = {seb_b0:.2f}\")\n",
    "print(f\"seh_b1 = {seh_b1:.4f}\")\n",
    "print(f\"seb_b1 = {seb_b1:.4f}\")"
   ]
  },
  {
   "cell_type": "markdown",
   "metadata": {},
   "source": [
    "# Bootstrap the residuals"
   ]
  },
  {
   "cell_type": "code",
   "execution_count": 14,
   "metadata": {
    "ExecuteTime": {
     "end_time": "2020-02-06T05:43:44.308854Z",
     "start_time": "2020-02-06T05:43:44.302952Z"
    }
   },
   "outputs": [],
   "source": [
    "def get_errors(z, y, beta):\n",
    "    c = convert_z_to_c(z)\n",
    "    e = y-c.dot(beta)\n",
    "    return e\n",
    "\n",
    "def bootstrap_errors_to_y_star(z, beta, e):\n",
    "    c = convert_z_to_c(z)\n",
    "    e_star = np.random.choice(e, len(e))\n",
    "    y_star = c.dot(beta)+e_star\n",
    "    return e_star, y_star"
   ]
  },
  {
   "cell_type": "code",
   "execution_count": 15,
   "metadata": {
    "ExecuteTime": {
     "end_time": "2020-02-06T05:43:44.326818Z",
     "start_time": "2020-02-06T05:43:44.312398Z"
    }
   },
   "outputs": [
    {
     "name": "stdout",
     "output_type": "stream",
     "text": [
      "b0_h = 33.03\n",
      "b1_h = -0.0513\n",
      "seh_b0 = 0.91\n",
      "seb_b0 = 0.95\n",
      "seh_b1 = 0.0047\n",
      "seb_b1 = 0.0049\n"
     ]
    }
   ],
   "source": [
    "y = hormone_data.amount\n",
    "z = hormone_data.hrs\n",
    "e = get_errors(z,y,beta)\n",
    "e_star, y_star = bootstrap_errors_to_y_star(z, beta, e)\n",
    "beta_star = find_beta_linalg(z, y_star)\n",
    "\n",
    "seh_b0,seh_b1 = find_se_hat(z, y_star, beta_star)\n",
    "seb_b0,seb_b1 = find_se_bar(z, y_star, beta_star)\n",
    "print(f\"b0_h = {beta_star[0]:.2f}\")\n",
    "print(f\"b1_h = {beta_star[1]:.4f}\")\n",
    "print(f\"seh_b0 = {seh_b0:.2f}\")\n",
    "print(f\"seb_b0 = {seb_b0:.2f}\")\n",
    "print(f\"seh_b1 = {seh_b1:.4f}\")\n",
    "print(f\"seb_b1 = {seb_b1:.4f}\")"
   ]
  },
  {
   "cell_type": "markdown",
   "metadata": {},
   "source": [
    "# Generate some random numbers"
   ]
  },
  {
   "cell_type": "code",
   "execution_count": null,
   "metadata": {},
   "outputs": [],
   "source": []
  }
 ],
 "metadata": {
  "kernelspec": {
   "display_name": "Python 3",
   "language": "python",
   "name": "python3"
  },
  "language_info": {
   "codemirror_mode": {
    "name": "ipython",
    "version": 3
   },
   "file_extension": ".py",
   "mimetype": "text/x-python",
   "name": "python",
   "nbconvert_exporter": "python",
   "pygments_lexer": "ipython3",
   "version": "3.7.2"
  },
  "toc": {
   "base_numbering": 1,
   "nav_menu": {},
   "number_sections": true,
   "sideBar": true,
   "skip_h1_title": false,
   "title_cell": "Table of Contents",
   "title_sidebar": "Contents",
   "toc_cell": false,
   "toc_position": {},
   "toc_section_display": true,
   "toc_window_display": false
  },
  "varInspector": {
   "cols": {
    "lenName": 16,
    "lenType": 16,
    "lenVar": 40
   },
   "kernels_config": {
    "python": {
     "delete_cmd_postfix": "",
     "delete_cmd_prefix": "del ",
     "library": "var_list.py",
     "varRefreshCmd": "print(var_dic_list())"
    },
    "r": {
     "delete_cmd_postfix": ") ",
     "delete_cmd_prefix": "rm(",
     "library": "var_list.r",
     "varRefreshCmd": "cat(var_dic_list()) "
    }
   },
   "types_to_exclude": [
    "module",
    "function",
    "builtin_function_or_method",
    "instance",
    "_Feature"
   ],
   "window_display": false
  }
 },
 "nbformat": 4,
 "nbformat_minor": 2
}
